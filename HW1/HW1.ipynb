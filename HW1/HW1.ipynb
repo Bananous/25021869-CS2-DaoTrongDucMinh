{
  "cells": [
    {
      "cell_type": "markdown",
      "metadata": {
        "id": "soAAsVvkw1xi"
      },
      "source": [
        "T1"
      ]
    },
    {
      "cell_type": "code",
      "execution_count": null,
      "metadata": {
        "colab": {
          "base_uri": "https://localhost:8080/"
        },
        "id": "RgFbbwfBwzW1",
        "outputId": "ee020879-6bb2-4c71-90d3-1519ad6b631c"
      },
      "outputs": [
        {
          "name": "stdout",
          "output_type": "stream",
          "text": [
            "5\n",
            "10\n"
          ]
        }
      ],
      "source": [
        "n = int(input())\n",
        "print(2*n)"
      ]
    },
    {
      "cell_type": "markdown",
      "metadata": {
        "id": "tiA1xtakxEZw"
      },
      "source": [
        "T2"
      ]
    },
    {
      "cell_type": "code",
      "execution_count": null,
      "metadata": {
        "colab": {
          "base_uri": "https://localhost:8080/"
        },
        "id": "JFv8YFX4xFb2",
        "outputId": "b0d056b5-634c-41ad-826d-755596ceeb74"
      },
      "outputs": [
        {
          "name": "stdout",
          "output_type": "stream",
          "text": [
            "3 4\n",
            "4.93\n"
          ]
        }
      ],
      "source": [
        "a, b  = map(float, input().split())\n",
        "r = a/2\n",
        "print(f'{a * b - r**2 * 3.14:.2f}')"
      ]
    },
    {
      "cell_type": "markdown",
      "metadata": {
        "id": "oLE21YmK0Kk6"
      },
      "source": [
        "T3"
      ]
    },
    {
      "cell_type": "code",
      "execution_count": 5,
      "metadata": {
        "colab": {
          "base_uri": "https://localhost:8080/"
        },
        "id": "zMIY1gQ70MnO",
        "outputId": "e9a9b3c4-cd19-44cc-fb88-d49015888126"
      },
      "outputs": [
        {
          "name": "stdout",
          "output_type": "stream",
          "text": [
            "a\n"
          ]
        }
      ],
      "source": [
        "c = input()\n",
        "if ord(c) >= ord('A') and ord(c) <= ord('Z'):\n",
        "  print(chr(ord(c) + (ord('a') - ord('A'))))\n",
        "else:\n",
        "  print(chr(ord(c) + (ord('A') - ord('a'))))"
      ]
    },
    {
      "cell_type": "markdown",
      "metadata": {
        "id": "dZEefmbr1PSQ"
      },
      "source": [
        "T4"
      ]
    },
    {
      "cell_type": "code",
      "execution_count": 2,
      "metadata": {
        "colab": {
          "base_uri": "https://localhost:8080/"
        },
        "id": "PAs_XeIQ1Q2Q",
        "outputId": "5a5c89e4-ac1f-4f55-80ac-8962124f4a65"
      },
      "outputs": [
        {
          "name": "stdout",
          "output_type": "stream",
          "text": [
            "t la ki tu alphabet\n"
          ]
        }
      ],
      "source": [
        "c = input()\n",
        "if (ord(c) >= ord('a') and ord(c) <= ord('z')) or (ord(c) >= ord('A') and ord(c) <= ord('Z')):\n",
        "  print(f'{c + \" la ki tu alphabet\"}')\n",
        "else:\n",
        "  print(f'{c + \" khong phai la ki tu alphabet\"}')"
      ]
    },
    {
      "cell_type": "markdown",
      "metadata": {
        "id": "ZEYz9cEe2EE5"
      },
      "source": [
        "T5"
      ]
    },
    {
      "cell_type": "code",
      "execution_count": null,
      "metadata": {
        "colab": {
          "base_uri": "https://localhost:8080/"
        },
        "id": "-YHsYX5Y2E31",
        "outputId": "c0bf32e5-a899-474d-bc00-a85003cd67c2"
      },
      "outputs": [
        {
          "name": "stdout",
          "output_type": "stream",
          "text": [
            "A\n",
            "z\n"
          ]
        }
      ],
      "source": [
        "A = input()\n",
        "if A == 'A':\n",
        "  print(\"z\")\n",
        "else:\n",
        "  print(chr(ord(A.lower()) - 1))"
      ]
    },
    {
      "cell_type": "markdown",
      "metadata": {
        "id": "_U9eMQBW3K2t"
      },
      "source": [
        "T6:"
      ]
    },
    {
      "cell_type": "code",
      "execution_count": null,
      "metadata": {
        "colab": {
          "base_uri": "https://localhost:8080/"
        },
        "id": "kNBA4-123L4S",
        "outputId": "9fe0ca2a-424f-4fde-e689-d0b46c0fade2"
      },
      "outputs": [
        {
          "name": "stdout",
          "output_type": "stream",
          "text": [
            "3 4 5\n",
            "6.0\n"
          ]
        }
      ],
      "source": [
        "import math\n",
        "a, b, c = map(float, input().split())\n",
        "if a + b > c and b + c > a and c + a > b:\n",
        "  s = (a + b + c)/2\n",
        "  print(f'{math.sqrt(s * (s - a) * (s - b) * (s - c)):.1f}')\n",
        "else:\n",
        "  print(\"Khong phai 3 canh cua tam giac\")"
      ]
    },
    {
      "cell_type": "markdown",
      "metadata": {
        "id": "E_EVnFo74wyA"
      },
      "source": [
        "T7"
      ]
    },
    {
      "cell_type": "code",
      "execution_count": null,
      "metadata": {
        "colab": {
          "base_uri": "https://localhost:8080/"
        },
        "id": "jIiU799v4yB7",
        "outputId": "329b2ce0-b1ab-452d-bf6b-7cd66ae24771"
      },
      "outputs": [
        {
          "name": "stdout",
          "output_type": "stream",
          "text": [
            "vrnvgrngverngvrignirgr\n",
            "g\n",
            "v\n"
          ]
        }
      ],
      "source": [
        "s = input()\n",
        "print(s[4])\n",
        "print(s[8])"
      ]
    },
    {
      "cell_type": "markdown",
      "metadata": {
        "id": "UHdcI3Xo5EnU"
      },
      "source": [
        "T8"
      ]
    },
    {
      "cell_type": "code",
      "execution_count": 15,
      "metadata": {
        "colab": {
          "base_uri": "https://localhost:8080/"
        },
        "id": "RuG-49Ta5FdK",
        "outputId": "4aa6de0d-9a2e-4c20-f9b5-0fd63f1c2fb2"
      },
      "outputs": [
        {
          "name": "stdout",
          "output_type": "stream",
          "text": [
            "Ho va ten: r\n",
            "Tien phai tra la: 1855505\n"
          ]
        }
      ],
      "source": [
        "def converter(num: int) -> int:\n",
        "  result = 0\n",
        "  cnt = 1\n",
        "  if num <= 0:\n",
        "    return 0\n",
        "  \n",
        "  diff = [0, 50, 100, 200, 300, 400, 1000]\n",
        "  cost = [0, 1984, 2050, 2380, 2998, 3350, 3460]\n",
        "\n",
        "  while cnt < 6:\n",
        "    if num <= diff[cnt]:\n",
        "      result += (num - diff[cnt-1]) * cost[cnt]\n",
        "      return result\n",
        "    else:\n",
        "      result += (diff[cnt] - diff[cnt-1]) * cost[cnt]\n",
        "    cnt += 1\n",
        "\n",
        "  result += (num - diff[5]) * cost[6]\n",
        "  return result\n",
        "\n",
        "name = input(\"Ten chu ho: \")\n",
        "prev = int(input(\"Chi so thang truoc: \"))\n",
        "now = int(input(\"Chi so thang nay: \"))\n",
        "print(f'{\"Ho va ten: \" + name}')\n",
        "print(f'Tien phai tra la: {((converter(now-prev)) * 1.08):.0f}')"
      ]
    },
    {
      "cell_type": "markdown",
      "metadata": {},
      "source": [
        "BT"
      ]
    },
    {
      "cell_type": "markdown",
      "metadata": {},
      "source": [
        "1."
      ]
    },
    {
      "cell_type": "code",
      "execution_count": null,
      "metadata": {},
      "outputs": [],
      "source": [
        "num = int(input())"
      ]
    }
  ],
  "metadata": {
    "colab": {
      "provenance": []
    },
    "kernelspec": {
      "display_name": "Python 3",
      "name": "python3"
    },
    "language_info": {
      "codemirror_mode": {
        "name": "ipython",
        "version": 3
      },
      "file_extension": ".py",
      "mimetype": "text/x-python",
      "name": "python",
      "nbconvert_exporter": "python",
      "pygments_lexer": "ipython3",
      "version": "3.12.2"
    }
  },
  "nbformat": 4,
  "nbformat_minor": 0
}
