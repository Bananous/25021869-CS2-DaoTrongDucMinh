{
 "cells": [
  {
   "cell_type": "markdown",
   "id": "c3048b04",
   "metadata": {},
   "source": [
    "1."
   ]
  },
  {
   "cell_type": "code",
   "execution_count": 1,
   "id": "686e7966",
   "metadata": {},
   "outputs": [
    {
     "name": "stdout",
     "output_type": "stream",
     "text": [
      "area: 2.0; circumference: 6.0\n"
     ]
    }
   ],
   "source": [
    "a, b = map(float, input().split())\n",
    "print(f'area: {a * b}; circumference: {2 * (a + b)}')"
   ]
  },
  {
   "cell_type": "markdown",
   "id": "4c060c94",
   "metadata": {},
   "source": [
    "2."
   ]
  },
  {
   "cell_type": "code",
   "execution_count": 2,
   "id": "1701aef2",
   "metadata": {},
   "outputs": [
    {
     "name": "stdout",
     "output_type": "stream",
     "text": [
      "area: 3.141592653589793; circumference: 6.283185307179586\n"
     ]
    }
   ],
   "source": [
    "import math\n",
    "\n",
    "r = float(input())\n",
    "print(f'area: {r * r * math.pi}; circumference: {2 * r * math.pi}')"
   ]
  },
  {
   "cell_type": "markdown",
   "id": "00d8f323",
   "metadata": {},
   "source": [
    "3."
   ]
  },
  {
   "cell_type": "code",
   "execution_count": 22,
   "id": "d8e6f2f8",
   "metadata": {},
   "outputs": [
    {
     "name": "stdout",
     "output_type": "stream",
     "text": [
      "Tam giac vuong\n"
     ]
    }
   ],
   "source": [
    "a, b, c = map(float, input().split())\n",
    "\n",
    "if a < b:\n",
    "   a, b = b, a\n",
    "if a < c:\n",
    "   a, c = c, a\n",
    "if b < c:\n",
    "   b, c = c, b\n",
    "\n",
    "if a + b > c and b + c > a and c + a > b:\n",
    "    if a == b and b == c:\n",
    "        print(\"Tam giac deu\")\n",
    "    elif b == c:\n",
    "        if b**2 + c**2 == a**2:\n",
    "           print(\"Tam giac vuong can\")\n",
    "        else:\n",
    "           print(\"Tam giac can\")\n",
    "    elif b**2 + c**2 == a**2:\n",
    "       print(\"Tam giac vuong\")\n",
    "    else:\n",
    "       print(\"Tam giac thuong\")\n",
    "else:\n",
    "  print(\"Khong la ba  canh cua mot tam  giac\")"
   ]
  },
  {
   "cell_type": "markdown",
   "id": "bb05d7ea",
   "metadata": {},
   "source": [
    "4."
   ]
  },
  {
   "cell_type": "code",
   "execution_count": 25,
   "id": "8ef6eae3",
   "metadata": {},
   "outputs": [
    {
     "name": "stdout",
     "output_type": "stream",
     "text": [
      "-0.0\n"
     ]
    }
   ],
   "source": [
    "a, b = map(float, input().split())\n",
    "if a == 0 and b == 0:\n",
    "    print(\"Vo so nghiem\")\n",
    "elif a == 0 and b != 0:\n",
    "    print(\"Vo nghiem\")\n",
    "else:\n",
    "    print(((-1) * b)/a)"
   ]
  },
  {
   "cell_type": "markdown",
   "id": "68ebfe17",
   "metadata": {},
   "source": [
    "5."
   ]
  },
  {
   "cell_type": "code",
   "execution_count": 7,
   "id": "59631730",
   "metadata": {},
   "outputs": [
    {
     "name": "stdout",
     "output_type": "stream",
     "text": [
      "-1.0\n",
      "-3.0\n"
     ]
    }
   ],
   "source": [
    "import math\n",
    "\n",
    "a, b, c = map(float, input().split())\n",
    "delta = b**2 - 4 * a * c\n",
    "if delta < 0:\n",
    "    print(\"no real answer\")\n",
    "else:\n",
    "    ans1 = ((-1) * b + math.sqrt(delta))/(2 * a)\n",
    "    ans2 = ((-1) * b - math.sqrt(delta))/(2 * a)\n",
    "    if delta == 0:\n",
    "        print(ans1)\n",
    "    else:\n",
    "        print(ans1)\n",
    "        print(ans2)"
   ]
  },
  {
   "cell_type": "markdown",
   "id": "44cd4927",
   "metadata": {},
   "source": [
    "6."
   ]
  },
  {
   "cell_type": "code",
   "execution_count": 10,
   "id": "f1b08108",
   "metadata": {},
   "outputs": [
    {
     "name": "stdout",
     "output_type": "stream",
     "text": [
      "9.0\n"
     ]
    }
   ],
   "source": [
    "a, b, c, d = map(float, input().split())\n",
    "if a > b:\n",
    "    a, b = b, a\n",
    "if b > c:\n",
    "    b, c = c, b\n",
    "if c > d:\n",
    "    c, d = d, c\n",
    "print(d)"
   ]
  },
  {
   "cell_type": "markdown",
   "id": "33e8b510",
   "metadata": {},
   "source": [
    "7."
   ]
  },
  {
   "cell_type": "code",
   "execution_count": 11,
   "id": "b2fffe92",
   "metadata": {},
   "outputs": [
    {
     "name": "stdout",
     "output_type": "stream",
     "text": [
      "2.0\n"
     ]
    }
   ],
   "source": [
    "a, b, c, d = map(float, input().split())\n",
    "if a < b:\n",
    "    a, b = b, a\n",
    "if b < c:\n",
    "    b, c = c, b\n",
    "if c < d:\n",
    "    c, d = d, c\n",
    "print(d)"
   ]
  },
  {
   "cell_type": "markdown",
   "id": "4b0e94fa",
   "metadata": {},
   "source": [
    "8."
   ]
  },
  {
   "cell_type": "code",
   "execution_count": 5,
   "id": "a4dabb52",
   "metadata": {},
   "outputs": [
    {
     "name": "stdout",
     "output_type": "stream",
     "text": [
      "vo nghiem\n"
     ]
    }
   ],
   "source": [
    "a, b, m, c, d, n = map(float, input().split())\n",
    "det = a * d - b * c\n",
    "if det == 0:\n",
    "    if a * d == b * c and a * n == c * m and b * n == d * m:\n",
    "        print(\"vo so nghiem\")\n",
    "    else:\n",
    "        print(\"vo nghiem\")\n",
    "else:\n",
    "    x = (m * d - b * n)/det\n",
    "    y = (a * n - m * c)/det\n",
    "    print(f'x = {x}\\ny = {y}')"
   ]
  },
  {
   "cell_type": "markdown",
   "id": "4b1e0c59",
   "metadata": {},
   "source": [
    "9."
   ]
  },
  {
   "cell_type": "code",
   "execution_count": 17,
   "id": "da7fb59d",
   "metadata": {},
   "outputs": [
    {
     "name": "stdout",
     "output_type": "stream",
     "text": [
      "hours: 1; minutes: 0; seconds: 0\n"
     ]
    }
   ],
   "source": [
    "x = int(input())\n",
    "hours = x // 3600\n",
    "hours_remain = x % 3600\n",
    "minutes = hours_remain // 60\n",
    "minutes_remain = hours_remain % 60\n",
    "sec = minutes_remain\n",
    "\n",
    "print(f'hours: {hours}; minutes: {minutes}; seconds: {sec}')"
   ]
  },
  {
   "cell_type": "markdown",
   "id": "617de254",
   "metadata": {},
   "source": [
    "10."
   ]
  },
  {
   "cell_type": "code",
   "execution_count": 19,
   "id": "dad9b042",
   "metadata": {},
   "outputs": [
    {
     "name": "stdout",
     "output_type": "stream",
     "text": [
      "inside\n"
     ]
    }
   ],
   "source": [
    "a, b, r, x, y = map(float, input().split())\n",
    "if (x - a)**2 + (y - b)**2 <= r**2:\n",
    "    print(\"inside\")\n",
    "else:\n",
    "    print(\"outside\")"
   ]
  },
  {
   "cell_type": "markdown",
   "id": "9101018a",
   "metadata": {},
   "source": [
    "11."
   ]
  },
  {
   "cell_type": "code",
   "execution_count": 21,
   "id": "5782abeb",
   "metadata": {},
   "outputs": [
    {
     "name": "stdout",
     "output_type": "stream",
     "text": [
      "0.1111111111111111\n"
     ]
    }
   ],
   "source": [
    "x, y = map(float, input().split())\n",
    "print(x**y)"
   ]
  }
 ],
 "metadata": {
  "kernelspec": {
   "display_name": "Python 3",
   "language": "python",
   "name": "python3"
  },
  "language_info": {
   "codemirror_mode": {
    "name": "ipython",
    "version": 3
   },
   "file_extension": ".py",
   "mimetype": "text/x-python",
   "name": "python",
   "nbconvert_exporter": "python",
   "pygments_lexer": "ipython3",
   "version": "3.12.2"
  }
 },
 "nbformat": 4,
 "nbformat_minor": 5
}
