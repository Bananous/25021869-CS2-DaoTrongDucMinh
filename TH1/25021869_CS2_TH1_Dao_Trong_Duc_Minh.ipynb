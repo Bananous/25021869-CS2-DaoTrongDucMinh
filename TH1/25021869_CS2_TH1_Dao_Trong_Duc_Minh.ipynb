{
  "nbformat": 4,
  "nbformat_minor": 0,
  "metadata": {
    "colab": {
      "provenance": []
    },
    "kernelspec": {
      "name": "python3",
      "display_name": "Python 3"
    },
    "language_info": {
      "name": "python"
    }
  },
  "cells": [
    {
      "cell_type": "markdown",
      "source": [
        "W1A1"
      ],
      "metadata": {
        "id": "jh5YQVYlDzBp"
      }
    },
    {
      "cell_type": "code",
      "source": [
        "a = 7\n",
        "b = 5\n",
        "c = a - b\n",
        "print(c)"
      ],
      "metadata": {
        "colab": {
          "base_uri": "https://localhost:8080/"
        },
        "id": "lXWFcG9lEBJK",
        "outputId": "4f452944-57e4-4336-8a94-97f6990c0093"
      },
      "execution_count": null,
      "outputs": [
        {
          "output_type": "stream",
          "name": "stdout",
          "text": [
            "2\n"
          ]
        }
      ]
    },
    {
      "cell_type": "markdown",
      "source": [
        "c = a - b = 7 - 5 = 2"
      ],
      "metadata": {
        "id": "qD5FTuqdOomf"
      }
    },
    {
      "cell_type": "markdown",
      "source": [
        "W1A2"
      ],
      "metadata": {
        "id": "JruBkKLxEnXG"
      }
    },
    {
      "cell_type": "code",
      "source": [
        "city = \"Hà Nội\"\n",
        "year = 2025\n",
        "print(\"Thành phố:\", city, \"- Năm\", year)"
      ],
      "metadata": {
        "colab": {
          "base_uri": "https://localhost:8080/"
        },
        "id": "pBv1imGXETxw",
        "outputId": "ec4136f8-9f35-4db0-8203-c4ed0384f9e5"
      },
      "execution_count": null,
      "outputs": [
        {
          "output_type": "stream",
          "name": "stdout",
          "text": [
            "Thành phố: Hà Nội - Năm 2025\n"
          ]
        }
      ]
    },
    {
      "cell_type": "markdown",
      "source": [
        "code in ra string \"Thành phố:\" rồi đến string city (\"Hà Nội\") rồi đến string \"- Năm\" và biến year (2025)"
      ],
      "metadata": {
        "id": "va3p-Vc3HoPb"
      }
    },
    {
      "cell_type": "markdown",
      "source": [
        "W1A3"
      ],
      "metadata": {
        "id": "eM1S7u4bEjW3"
      }
    },
    {
      "cell_type": "code",
      "source": [
        "n = 4\n",
        "t = 0\n",
        "for i in range(1, n+1):\n",
        "  t += i\n",
        "print(t)"
      ],
      "metadata": {
        "colab": {
          "base_uri": "https://localhost:8080/"
        },
        "id": "skQU4IprEl-D",
        "outputId": "d67707b4-42dc-4ddd-af3d-0336beefb79f"
      },
      "execution_count": null,
      "outputs": [
        {
          "output_type": "stream",
          "name": "stdout",
          "text": [
            "10\n"
          ]
        }
      ]
    },
    {
      "cell_type": "markdown",
      "source": [
        "2 dòng đầu declare biến n = 4 và t = 0"
      ],
      "metadata": {
        "id": "mcKhmcKwIDYA"
      }
    },
    {
      "cell_type": "markdown",
      "source": [
        "vòng loop từ 1 đến n+1 là từ 1 đến 4: mỗi vòng lặp biến t được cộng với số thứ tự của vòng lặp. Cả vong lặp làm biến t trở thành t = 0 + 1 + 2 + 3 + 4 = 10"
      ],
      "metadata": {
        "id": "3kLpv3YBI9_l"
      }
    },
    {
      "cell_type": "markdown",
      "source": [
        "W1A4"
      ],
      "metadata": {
        "id": "HKct3I_LEy7n"
      }
    },
    {
      "cell_type": "code",
      "source": [
        "numbers = [1, 2, 3, 4]\n",
        "for x in numbers:\n",
        "  if x % 2 == 0:\n",
        "    print(\"là số chẵn\")\n",
        "  else:\n",
        "    print(\"là số lẻ\")"
      ],
      "metadata": {
        "colab": {
          "base_uri": "https://localhost:8080/"
        },
        "id": "X2YrsSHvE0PW",
        "outputId": "52a85b4d-2424-4dd4-c337-4454c5fa6757"
      },
      "execution_count": null,
      "outputs": [
        {
          "output_type": "stream",
          "name": "stdout",
          "text": [
            "là số lẻ\n",
            "là số chẵn\n",
            "là số lẻ\n",
            "là số chẵn\n"
          ]
        }
      ]
    },
    {
      "cell_type": "markdown",
      "source": [
        "dòng đầu cho 1 danh sách numbers = [1, 2, 3, 4]"
      ],
      "metadata": {
        "id": "Pbaau6ISJg_m"
      }
    },
    {
      "cell_type": "markdown",
      "source": [
        "trong vòng lặp lặp qua từng phần tử của danh sách numbers: nếu phần tử chia 2 dư 0 (x % 2 == 0) thì in ra \"là số chẵn\" nếu không thì in ra \"là số lẻ\""
      ],
      "metadata": {
        "id": "uVRPmM3BJoyS"
      }
    },
    {
      "cell_type": "markdown",
      "source": [
        "W1A5"
      ],
      "metadata": {
        "id": "B9fKYNA_FFlY"
      }
    },
    {
      "cell_type": "code",
      "source": [
        "animals = [\"cat\", \"dog\", \"cat\", \"bird\"]\n",
        "count = 0\n",
        "for a in animals:\n",
        "  count += 1\n",
        "\n",
        "print(\"Số phần tử trong danh sách là:\", count)"
      ],
      "metadata": {
        "colab": {
          "base_uri": "https://localhost:8080/"
        },
        "id": "0shM0-qSFG5-",
        "outputId": "516b047a-3e18-4b6d-db23-b84f86f2e04a"
      },
      "execution_count": null,
      "outputs": [
        {
          "output_type": "stream",
          "name": "stdout",
          "text": [
            "Số phần tử trong danh sách là: 4\n"
          ]
        }
      ]
    },
    {
      "cell_type": "markdown",
      "source": [
        "Dòng đầu tiên cho 1 danh sách animals = [\"cat\", \"dog\", \"cat\", \"bird\"] và dòng thứ 2 tạo 1 biến count = 0"
      ],
      "metadata": {
        "id": "TOokJalxKLQ5"
      }
    },
    {
      "cell_type": "markdown",
      "source": [
        "Trong vòng lặp qua các phần tử của animals, mỗi lần lặp qua từng phần tử thì count được cộng thêm 1. Có 4 phần tử trong animals nên sau vòng lặp count = 4"
      ],
      "metadata": {
        "id": "0uF06v5PKUmy"
      }
    },
    {
      "cell_type": "markdown",
      "source": [
        "Dòng cuối xuất ra string \"Số phần tử trong danh sách là:\" và biến count = 4"
      ],
      "metadata": {
        "id": "RVmMEDiIM7dq"
      }
    },
    {
      "cell_type": "markdown",
      "source": [
        "W1A6"
      ],
      "metadata": {
        "id": "_Nh8gSYaFeM6"
      }
    },
    {
      "cell_type": "markdown",
      "source": [
        "=== AI Prediction System ===\n",
        "1) Sentiment analysis\n",
        "2) Weather forecast\n",
        "3) Exit\n",
        "Please choose an option:"
      ],
      "metadata": {
        "id": "O1qCyaL0Fy-B"
      }
    },
    {
      "cell_type": "markdown",
      "source": [
        "Đây là output của W1A10"
      ],
      "metadata": {
        "id": "Qp60uvkrNQAM"
      }
    },
    {
      "cell_type": "markdown",
      "source": [
        "Đây là Weather forecast vì nó là hệ thống AI để suy đoán"
      ],
      "metadata": {
        "id": "uAwMmgx4LLSR"
      }
    },
    {
      "cell_type": "markdown",
      "source": [
        "W1A7"
      ],
      "metadata": {
        "id": "9IiXh1zwGVqf"
      }
    },
    {
      "cell_type": "code",
      "source": [
        "num = input(\"Nhập số: \")\n",
        "if num % 2 == 0:\n",
        "  print(\"Số chẵn\")\n",
        "else:\n",
        "  print(\"Số lẻ\")"
      ],
      "metadata": {
        "colab": {
          "base_uri": "https://localhost:8080/"
        },
        "id": "GAH2q7tkGYG3",
        "outputId": "e17615d0-0eb7-4dcc-ba36-be455412d8da"
      },
      "execution_count": null,
      "outputs": [
        {
          "output_type": "stream",
          "name": "stdout",
          "text": [
            "Nhập số: 8\n",
            "Số chẵn\n"
          ]
        }
      ]
    },
    {
      "cell_type": "markdown",
      "source": [
        "num chưa được ép kiểu thành int nên cần ép kiểu num = int(input(\"Nhập số: \"))"
      ],
      "metadata": {
        "id": "Dej1Ub1bNt7g"
      }
    },
    {
      "cell_type": "markdown",
      "source": [
        "ở dòng 2, cần phải là if num % 2 == 0: vì = là để gán, == là so sánh"
      ],
      "metadata": {
        "id": "PsG1m-slLdES"
      }
    },
    {
      "cell_type": "markdown",
      "source": [
        "W1A8"
      ],
      "metadata": {
        "id": "mrQVGJWiGA5D"
      }
    },
    {
      "cell_type": "code",
      "source": [
        "for i in range(3):\n",
        "  print(\"Ai đang học lần\", i+1)\n",
        "print(\"Huấn luyện xong!\")"
      ],
      "metadata": {
        "colab": {
          "base_uri": "https://localhost:8080/"
        },
        "id": "-85ogazOGCRp",
        "outputId": "37e27715-ce47-4004-a58e-c7e70bc06afa"
      },
      "execution_count": null,
      "outputs": [
        {
          "output_type": "stream",
          "name": "stdout",
          "text": [
            "Ai đang học lần 1\n",
            "Ai đang học lần 2\n",
            "Ai đang học lần 3\n",
            "Huấn luyện xong!\n"
          ]
        }
      ]
    },
    {
      "cell_type": "markdown",
      "source": [
        "Trong vòng lặp từ 0 -> 2: Mỗi vòng lặp in ra string \"Ai đang học lần\" và số thứ thự vòng lặp"
      ],
      "metadata": {
        "id": "tQL2OODJLmwn"
      }
    },
    {
      "cell_type": "markdown",
      "source": [
        "Vòng cuối xuất string \"Huấn luyện xong!\""
      ],
      "metadata": {
        "id": "I63ZJpO1MAxd"
      }
    },
    {
      "cell_type": "markdown",
      "source": [
        "W1A9"
      ],
      "metadata": {
        "id": "yl2kKb8rGq4v"
      }
    },
    {
      "cell_type": "code",
      "source": [
        "for x in [\"cat\", \"dog\", \"fish\"]:\n",
        "  print(\"Dự đoán con vật:\", x)"
      ],
      "metadata": {
        "colab": {
          "base_uri": "https://localhost:8080/"
        },
        "id": "W8sXux-lGsVl",
        "outputId": "f67d1175-56b9-4c73-f71d-75faf3129fe2"
      },
      "execution_count": null,
      "outputs": [
        {
          "output_type": "stream",
          "name": "stdout",
          "text": [
            "Dự đoán con vật: cat\n",
            "Dự đoán con vật: dog\n",
            "Dự đoán con vật: fish\n"
          ]
        }
      ]
    },
    {
      "cell_type": "markdown",
      "source": [
        "Trong vòng lặp qua từng phần tử của danh sách [\"cat\", \"dog\", \"fish\"]: xuất ra string \"Dự đoán con vật:\" và phần tử"
      ],
      "metadata": {
        "id": "4JVY937BMHKO"
      }
    },
    {
      "cell_type": "markdown",
      "source": [
        "W1A10"
      ],
      "metadata": {
        "id": "HZcitMrwG40v"
      }
    },
    {
      "cell_type": "code",
      "source": [
        "#Simple menu\n",
        "print \"=== AI Prediction System ===\"\n",
        "print(\"1) Sentiment analysis\"\n",
        "print(\"2) Weather forecast\"\n",
        "print('3) Exit'\n",
        "print(\"Please choose an option:\")"
      ],
      "metadata": {
        "id": "cIlB0SlKG7LV"
      },
      "execution_count": null,
      "outputs": []
    },
    {
      "cell_type": "code",
      "source": [
        "print (\"=== AI Prediction System ===\")\n",
        "print(\"1) Sentiment analysis\")\n",
        "print(\"2) Weather forecast\")\n",
        "print('3) Exit')\n",
        "print(\"Please choose an option:\")"
      ],
      "metadata": {
        "colab": {
          "base_uri": "https://localhost:8080/"
        },
        "id": "GHR1SUWxMfHj",
        "outputId": "181006f2-0770-40e9-b13a-2983aa9fb3db"
      },
      "execution_count": null,
      "outputs": [
        {
          "output_type": "stream",
          "name": "stdout",
          "text": [
            "=== AI Prediction System ===\n",
            "1) Sentiment analysis\n",
            "2) Weather forecast\n",
            "3) Exit\n",
            "Please choose an option:\n"
          ]
        }
      ]
    }
  ]
}