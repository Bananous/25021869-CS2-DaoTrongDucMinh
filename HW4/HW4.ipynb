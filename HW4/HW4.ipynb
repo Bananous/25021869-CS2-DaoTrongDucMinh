{
 "cells": [
  {
   "cell_type": "markdown",
   "id": "078908f6",
   "metadata": {},
   "source": [
    "W4A1"
   ]
  },
  {
   "cell_type": "code",
   "execution_count": 2,
   "id": "85ea1d28",
   "metadata": {},
   "outputs": [
    {
     "name": "stdout",
     "output_type": "stream",
     "text": [
      "15\n"
     ]
    }
   ],
   "source": [
    "n = int(input())\n",
    "sum = 0\n",
    "for i in range (n):\n",
    "    temp = int(input())\n",
    "    sum += temp\n",
    "print(sum)"
   ]
  },
  {
   "cell_type": "markdown",
   "id": "1d1d57a2",
   "metadata": {},
   "source": [
    "W4A2"
   ]
  },
  {
   "cell_type": "code",
   "execution_count": 32,
   "id": "4a2cc744",
   "metadata": {},
   "outputs": [
    {
     "name": "stdout",
     "output_type": "stream",
     "text": [
      "so nguyen to\n"
     ]
    }
   ],
   "source": [
    "def checkPrime(n : int):\n",
    "    if n <= 1:\n",
    "        return False\n",
    "    for i in range (int(n ** 0.5) + 1):\n",
    "        if i <= 1 or i >= n:\n",
    "            continue\n",
    "        if n % i == 0:\n",
    "            return False\n",
    "    return True\n",
    "\n",
    "\n",
    "while True:\n",
    "    n = float(input())\n",
    "    if n == int(n) and n > 0:\n",
    "        n = int(n)\n",
    "        if checkPrime(n):\n",
    "            print(\"so nguyen to\")\n",
    "        else:\n",
    "            print(\"ko phai la so nguyen to\")\n",
    "        break\n"
   ]
  },
  {
   "cell_type": "markdown",
   "id": "9d918e4a",
   "metadata": {},
   "source": [
    "W4A3"
   ]
  },
  {
   "cell_type": "code",
   "execution_count": 42,
   "id": "a0064dc4",
   "metadata": {},
   "outputs": [
    {
     "name": "stdout",
     "output_type": "stream",
     "text": [
      "24\n"
     ]
    }
   ],
   "source": [
    "n = int(input())\n",
    "fact = 1\n",
    "for i in range (n):\n",
    "    fact *= i+1\n",
    "print(fact)"
   ]
  },
  {
   "cell_type": "markdown",
   "id": "b299a0d9",
   "metadata": {},
   "source": [
    "W4A4"
   ]
  },
  {
   "cell_type": "code",
   "execution_count": 63,
   "id": "7db5e991",
   "metadata": {},
   "outputs": [
    {
     "name": "stdout",
     "output_type": "stream",
     "text": [
      "3\n"
     ]
    }
   ],
   "source": [
    "n = int(input())\n",
    "num = int(0)\n",
    "if n < 0:\n",
    "    n = -n\n",
    "if n == 0:\n",
    "    num = 1\n",
    "while n > 0:\n",
    "    n //= 10\n",
    "    num += 1\n",
    "print(num)"
   ]
  },
  {
   "cell_type": "markdown",
   "id": "43016faf",
   "metadata": {},
   "source": [
    "W4A5"
   ]
  },
  {
   "cell_type": "code",
   "execution_count": 59,
   "id": "d4cdc70c",
   "metadata": {},
   "outputs": [
    {
     "name": "stdout",
     "output_type": "stream",
     "text": [
      "It′s a joke!\n"
     ]
    }
   ],
   "source": [
    "n = int(input())\n",
    "sane = True\n",
    "for i in range (n):\n",
    "    temp = int(input())\n",
    "    if temp == 42:\n",
    "        sane = False\n",
    "if sane:\n",
    "    print(f'It′s a joke!')\n",
    "else:\n",
    "    print(f'I′ve found the meaning of life!')"
   ]
  },
  {
   "cell_type": "markdown",
   "id": "4645561d",
   "metadata": {},
   "source": [
    "W4A6"
   ]
  },
  {
   "cell_type": "code",
   "execution_count": 62,
   "id": "d1223ddb",
   "metadata": {},
   "outputs": [
    {
     "name": "stdout",
     "output_type": "stream",
     "text": [
      "17\n"
     ]
    }
   ],
   "source": [
    "def checkPrime(n : int):\n",
    "    if n <= 1:\n",
    "        return False\n",
    "    for i in range (int(n ** 0.5) + 1):\n",
    "        if i <= 1 or i >= n:\n",
    "            continue\n",
    "        if n % i == 0:\n",
    "            return False\n",
    "    return True\n",
    "\n",
    "a, b = map(int, input().split())\n",
    "sum = 0\n",
    "for i in range (a, b+1):\n",
    "    if checkPrime(i):\n",
    "        sum += i\n",
    "print(sum)"
   ]
  },
  {
   "cell_type": "markdown",
   "id": "7aefbeec",
   "metadata": {},
   "source": [
    "W4A7"
   ]
  },
  {
   "cell_type": "code",
   "execution_count": 101,
   "id": "ae66ee52",
   "metadata": {},
   "outputs": [
    {
     "name": "stdout",
     "output_type": "stream",
     "text": [
      "5\n"
     ]
    }
   ],
   "source": [
    "def checkPrime(n : int):\n",
    "    if n <= 1:\n",
    "        return False\n",
    "    for i in range (int(n ** 0.5) + 1):\n",
    "        if i <= 1 or i >= n:\n",
    "            continue\n",
    "        if n % i == 0:\n",
    "            return False\n",
    "    return True\n",
    "\n",
    "def divisorPrime(n : int):\n",
    "    maxDiv = -1\n",
    "    for i in range (1, int(n ** 0.5) + 1):\n",
    "        if n % i == 0:\n",
    "            if checkPrime(i) and i > maxDiv:\n",
    "                maxDiv = i\n",
    "            if checkPrime(n//i) and (n//i) > maxDiv:\n",
    "                maxDiv = n//i\n",
    "    return maxDiv\n",
    "\n",
    "n = int(input())\n",
    "print(divisorPrime(n))"
   ]
  },
  {
   "cell_type": "markdown",
   "id": "41bb27dd",
   "metadata": {},
   "source": [
    "W4A8"
   ]
  },
  {
   "cell_type": "code",
   "execution_count": 70,
   "id": "7d498969",
   "metadata": {},
   "outputs": [
    {
     "name": "stdout",
     "output_type": "stream",
     "text": [
      "1 buoc\n",
      "so palindorme la 99\n"
     ]
    }
   ],
   "source": [
    "def reverse(n : int):\n",
    "    rev = 0\n",
    "    while n > 0:\n",
    "        rev = rev * 10 + n % 10\n",
    "        n //= 10\n",
    "    return rev\n",
    "\n",
    "n = int(input())\n",
    "steps = 0\n",
    "while reverse(n) != n:\n",
    "    n += reverse(n)\n",
    "    steps += 1\n",
    "print(f'{steps} buoc\\nso palindorme la {n}')"
   ]
  },
  {
   "cell_type": "markdown",
   "id": "3c5bd12c",
   "metadata": {},
   "source": [
    "W4A9"
   ]
  },
  {
   "cell_type": "code",
   "execution_count": 79,
   "id": "9cbc21a7",
   "metadata": {},
   "outputs": [
    {
     "name": "stdout",
     "output_type": "stream",
     "text": [
      "0 1 4 9 "
     ]
    }
   ],
   "source": [
    "def checkUnique(n : int):\n",
    "    digits = [0] * 10\n",
    "    while n > 0:\n",
    "        if digits[n%10] > 0:\n",
    "            return False\n",
    "        digits[n%10] += 1\n",
    "        n //= 10\n",
    "    return True\n",
    "\n",
    "n = int(input())\n",
    "check = False\n",
    "for i in range(n+1):\n",
    "    if i ** 0.5 != int(i ** 0.5):\n",
    "        continue\n",
    "    if checkUnique(i):\n",
    "        print(i, end = ' ')\n",
    "        check = True\n",
    "\n",
    "if not check:\n",
    "    print(\"no number\")\n"
   ]
  },
  {
   "cell_type": "markdown",
   "id": "5736d2ab",
   "metadata": {},
   "source": [
    "W4A10"
   ]
  },
  {
   "cell_type": "code",
   "execution_count": 98,
   "id": "99bd0653",
   "metadata": {},
   "outputs": [
    {
     "name": "stdout",
     "output_type": "stream",
     "text": [
      "20\n"
     ]
    }
   ],
   "source": [
    "def collatz_len(n : int, length : int):\n",
    "    if n == 1:\n",
    "        return length\n",
    "    if n % 2 == 0:\n",
    "        n //= 2\n",
    "        return collatz_len(n, length + 1)\n",
    "    else:\n",
    "        n = 3 * n + 1\n",
    "        return collatz_len(n, length + 1)\n",
    "\n",
    "n = int(input())\n",
    "maxSeq = 0\n",
    "for i in range(1, n+1):\n",
    "    if maxSeq < collatz_len(i, 1):\n",
    "        maxSeq = collatz_len(i, 1)\n",
    "print(maxSeq)\n"
   ]
  },
  {
   "cell_type": "markdown",
   "id": "5f02b6c4",
   "metadata": {},
   "source": [
    "W4A11"
   ]
  },
  {
   "cell_type": "code",
   "execution_count": null,
   "id": "ffa8ea12",
   "metadata": {},
   "outputs": [
    {
     "name": "stdout",
     "output_type": "stream",
     "text": [
      "2\n"
     ]
    }
   ],
   "source": [
    "n = int(input())\n",
    "cnt = 0\n",
    "for i in range (2, n+1, 2):\n",
    "    if n % i == 0:\n",
    "        cnt += 1\n",
    "print(cnt)"
   ]
  },
  {
   "cell_type": "markdown",
   "id": "6adc37ef",
   "metadata": {},
   "source": [
    "W4A12"
   ]
  },
  {
   "cell_type": "code",
   "execution_count": 84,
   "id": "5c30c0c3",
   "metadata": {},
   "outputs": [
    {
     "name": "stdout",
     "output_type": "stream",
     "text": [
      "1\n"
     ]
    }
   ],
   "source": [
    "x, n = map(float, input().split())\n",
    "print(f'{int(x*(1.007 ** n))}')"
   ]
  },
  {
   "cell_type": "markdown",
   "id": "db0f1fc8",
   "metadata": {},
   "source": [
    "W4A13"
   ]
  },
  {
   "cell_type": "code",
   "execution_count": 88,
   "id": "98a8223d",
   "metadata": {},
   "outputs": [
    {
     "name": "stdout",
     "output_type": "stream",
     "text": [
      "true\n"
     ]
    }
   ],
   "source": [
    "def divisorSum(n : int):\n",
    "    sum = 0\n",
    "    for i in range (1, int(n ** 0.5) + 1):\n",
    "        if n % i == 0:\n",
    "            sum += i + n/i\n",
    "    sum -= n\n",
    "    return sum\n",
    "a, b = map(int, input().split())\n",
    "if divisorSum(a) == b and divisorSum(b) == a:\n",
    "    print(\"true\")\n",
    "else:\n",
    "    print(\"false\")"
   ]
  },
  {
   "cell_type": "markdown",
   "id": "5c030b5b",
   "metadata": {},
   "source": [
    "W4A14"
   ]
  },
  {
   "cell_type": "code",
   "execution_count": 90,
   "id": "3eef8855",
   "metadata": {},
   "outputs": [
    {
     "name": "stdout",
     "output_type": "stream",
     "text": [
      "7\n"
     ]
    }
   ],
   "source": [
    "def gcd(m, n):\n",
    "    if n == 0:\n",
    "        return m\n",
    "    else:\n",
    "        return gcd(n, m%n)\n",
    "\n",
    "m, n = map(int, input().split())\n",
    "if m < n:\n",
    "    m, n = n, m\n",
    "print(gcd(m, n))"
   ]
  },
  {
   "cell_type": "markdown",
   "id": "8209859a",
   "metadata": {},
   "source": [
    "W4A16"
   ]
  },
  {
   "cell_type": "code",
   "execution_count": 94,
   "id": "04c3da23",
   "metadata": {},
   "outputs": [
    {
     "name": "stdout",
     "output_type": "stream",
     "text": [
      "so con ga: 0\n",
      "so con cho: 5\n"
     ]
    }
   ],
   "source": [
    "sum = int(input(\"tong so con: \"))\n",
    "lsum = int(input(\"tong so chan: \"))\n",
    "\n",
    "chicken_num = (4*sum - lsum)//2\n",
    "dog_num = (lsum - 2*sum)//2\n",
    "\n",
    "if lsum % 2 != 0 or 4*sum - lsum < 0 or lsum - 2*sum < 0:\n",
    "    print(\"invalid\")\n",
    "else:\n",
    "    print(f'so con ga: {chicken_num}')\n",
    "    print(f'so con cho: {dog_num}')"
   ]
  }
 ],
 "metadata": {
  "kernelspec": {
   "display_name": "Python 3",
   "language": "python",
   "name": "python3"
  },
  "language_info": {
   "codemirror_mode": {
    "name": "ipython",
    "version": 3
   },
   "file_extension": ".py",
   "mimetype": "text/x-python",
   "name": "python",
   "nbconvert_exporter": "python",
   "pygments_lexer": "ipython3",
   "version": "3.12.2"
  }
 },
 "nbformat": 4,
 "nbformat_minor": 5
}
