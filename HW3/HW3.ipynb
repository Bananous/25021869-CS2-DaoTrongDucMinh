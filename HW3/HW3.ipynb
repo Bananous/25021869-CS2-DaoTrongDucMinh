{
 "cells": [
  {
   "cell_type": "markdown",
   "id": "3b47cc21",
   "metadata": {},
   "source": [
    "W3A2"
   ]
  },
  {
   "cell_type": "code",
   "execution_count": 2,
   "id": "64135e36",
   "metadata": {},
   "outputs": [
    {
     "name": "stdout",
     "output_type": "stream",
     "text": [
      "4 2\n"
     ]
    }
   ],
   "source": [
    "a, b = map(int, input().split())\n",
    "a = b ^ a\n",
    "b = a ^ b\n",
    "a = b ^ a\n",
    "print(a, b)"
   ]
  },
  {
   "cell_type": "markdown",
   "id": "f26c6369",
   "metadata": {},
   "source": [
    "W3A3"
   ]
  },
  {
   "cell_type": "code",
   "execution_count": 3,
   "id": "c4891052",
   "metadata": {},
   "outputs": [
    {
     "name": "stdout",
     "output_type": "stream",
     "text": [
      "yes\n"
     ]
    }
   ],
   "source": [
    "n = int(input())\n",
    "if n & (n - 1) == 0:\n",
    "    print(\"yes\")\n",
    "else:\n",
    "    print(\"no\")"
   ]
  },
  {
   "cell_type": "markdown",
   "id": "2d6613e5",
   "metadata": {},
   "source": [
    "W3A4"
   ]
  },
  {
   "cell_type": "code",
   "execution_count": 4,
   "id": "d4c4f250",
   "metadata": {},
   "outputs": [
    {
     "name": "stdout",
     "output_type": "stream",
     "text": [
      "0\n"
     ]
    }
   ],
   "source": [
    "m, n = map(int, input().split())\n",
    "print(m // n)"
   ]
  },
  {
   "cell_type": "markdown",
   "id": "b9a1af1c",
   "metadata": {},
   "source": [
    "W3A5"
   ]
  },
  {
   "cell_type": "code",
   "execution_count": 5,
   "id": "db001c13",
   "metadata": {},
   "outputs": [
    {
     "name": "stdout",
     "output_type": "stream",
     "text": [
      "1\n"
     ]
    }
   ],
   "source": [
    "import math\n",
    "m, n = map(int, input().split())\n",
    "print(math.ceil(m/n))"
   ]
  },
  {
   "cell_type": "markdown",
   "id": "1dedc23b",
   "metadata": {},
   "source": [
    "W3A6"
   ]
  },
  {
   "cell_type": "code",
   "execution_count": 6,
   "id": "ea267a6f",
   "metadata": {},
   "outputs": [
    {
     "name": "stdout",
     "output_type": "stream",
     "text": [
      "Even\n"
     ]
    }
   ],
   "source": [
    "x = int(input())\n",
    "if x % 2 == 0:\n",
    "    print(\"Even\")\n",
    "else:\n",
    "    print(\"Odd\")"
   ]
  },
  {
   "cell_type": "markdown",
   "id": "d588bf7d",
   "metadata": {},
   "source": [
    "W3A7"
   ]
  },
  {
   "cell_type": "code",
   "execution_count": null,
   "id": "6805c29e",
   "metadata": {},
   "outputs": [],
   "source": [
    "a, b = map(int, input().split())\n",
    "if a < 0 and b < 0:\n",
    "    print(\"Yes\")\n",
    "else:\n",
    "    print(\"No\")"
   ]
  },
  {
   "cell_type": "markdown",
   "id": "71625c5f",
   "metadata": {},
   "source": [
    "W3A8"
   ]
  },
  {
   "cell_type": "code",
   "execution_count": 9,
   "id": "eae1182e",
   "metadata": {},
   "outputs": [
    {
     "name": "stdout",
     "output_type": "stream",
     "text": [
      "True\n"
     ]
    }
   ],
   "source": [
    "a, b = input().split()\n",
    "if len(a) > len(b):\n",
    "    print(\"True\")\n",
    "else:\n",
    "    print(\"False\")"
   ]
  },
  {
   "cell_type": "markdown",
   "id": "12077bfe",
   "metadata": {},
   "source": [
    "W3A9"
   ]
  },
  {
   "cell_type": "code",
   "execution_count": null,
   "id": "e6496355",
   "metadata": {},
   "outputs": [],
   "source": [
    "a, b, c = map(float, input().split())\n",
    "\n",
    "if a + b > c and b + c > a and c + a > b:\n",
    "    print(\"Tam giac\")\n",
    "else:\n",
    "    print(\"Khong la ba  canh cua mot tam  giac\")"
   ]
  },
  {
   "cell_type": "markdown",
   "id": "af665f1b",
   "metadata": {},
   "source": [
    "W3A10"
   ]
  },
  {
   "cell_type": "code",
   "execution_count": null,
   "id": "c64e91b6",
   "metadata": {},
   "outputs": [],
   "source": [
    "a, b, c, d = map(float, input().split())\n",
    "if a > b:\n",
    "    a, b = b, a\n",
    "if b > c:\n",
    "    b, c = c, b\n",
    "if c > d:\n",
    "    c, d = d, c\n",
    "print(d)"
   ]
  },
  {
   "cell_type": "markdown",
   "id": "a0c626da",
   "metadata": {},
   "source": [
    "W3A11"
   ]
  },
  {
   "cell_type": "code",
   "execution_count": null,
   "id": "f00f23b0",
   "metadata": {},
   "outputs": [],
   "source": [
    "a, b, c = map(float, input().split())\n",
    "\n",
    "if a < b:\n",
    "   a, b = b, a\n",
    "if a < c:\n",
    "   a, c = c, a\n",
    "if b < c:\n",
    "   b, c = c, b\n",
    "\n",
    "if a + b > c and b + c > a and c + a > b:\n",
    "    if a == b and b == c:\n",
    "        print(\"Tam giac deu\")\n",
    "    elif b == c:\n",
    "        if b**2 + c**2 == a**2:\n",
    "           print(\"Tam giac vuong can\")\n",
    "        else:\n",
    "           print(\"Tam giac can\")\n",
    "    elif b**2 + c**2 == a**2:\n",
    "       print(\"Tam giac vuong\")\n",
    "    else:\n",
    "       print(\"Tam giac thuong\")\n",
    "else:\n",
    "  print(\"Khong la ba  canh cua mot tam  giac\")"
   ]
  },
  {
   "cell_type": "markdown",
   "id": "f167f78a",
   "metadata": {},
   "source": [
    "W3A12"
   ]
  },
  {
   "cell_type": "code",
   "execution_count": null,
   "id": "b35a25cd",
   "metadata": {},
   "outputs": [],
   "source": [
    "year = int(input())\n",
    "if year % 400 == 0 or (year % 4 == 0 and year % 100 != 0):\n",
    "    print(\"Yes\")\n",
    "else:\n",
    "    print(\"No\")"
   ]
  },
  {
   "cell_type": "markdown",
   "id": "1bbc7efd",
   "metadata": {},
   "source": [
    "W3A14"
   ]
  },
  {
   "cell_type": "code",
   "execution_count": null,
   "id": "ab2a8ea5",
   "metadata": {},
   "outputs": [],
   "source": [
    "a, b = map(float, input().split())\n",
    "if a == 0 and b == 0:\n",
    "    print(\"Vo so nghiem\")\n",
    "elif a == 0 and b != 0:\n",
    "    print(\"Vo nghiem\")\n",
    "else:\n",
    "    print(((-1) * b)/a)"
   ]
  },
  {
   "cell_type": "markdown",
   "id": "b4191d60",
   "metadata": {},
   "source": [
    "W3A15"
   ]
  },
  {
   "cell_type": "code",
   "execution_count": null,
   "id": "b42d8517",
   "metadata": {},
   "outputs": [],
   "source": [
    "score = float(input())\n",
    "if score < 5:\n",
    "    print(\"Yếu\")\n",
    "elif score < 6.5:\n",
    "    print(\"Trung bình\")\n",
    "elif score < 8:\n",
    "    print(\"Khá\")\n",
    "else:\n",
    "    print(\"Giỏi\")"
   ]
  },
  {
   "cell_type": "markdown",
   "id": "e7966b9e",
   "metadata": {},
   "source": [
    "W3A16"
   ]
  },
  {
   "cell_type": "code",
   "execution_count": 15,
   "id": "435ad8c2",
   "metadata": {},
   "outputs": [
    {
     "name": "stdout",
     "output_type": "stream",
     "text": [
      "4.0 3 3\n"
     ]
    }
   ],
   "source": [
    "a = float(input())\n",
    "if int(a*10)%10 == 0:\n",
    "    print(f'{int(a)} {int(a)} {int(a)}')\n",
    "elif int(a*10)%10 >= 5:\n",
    "    print(f'{(int(a*10) - int(a*10)%10 + 10)/10} {int(a)} {(int(a*10) - int(a*10)%10 + 10)/10}')\n",
    "else:\n",
    "    print(f'{(int(a*10) - int(a*10)%10 + 10)/10} {int(a)} {int(a)}')"
   ]
  },
  {
   "cell_type": "markdown",
   "id": "b5d484d0",
   "metadata": {},
   "source": [
    "W3A17"
   ]
  },
  {
   "cell_type": "code",
   "execution_count": 11,
   "id": "4a9062f1",
   "metadata": {},
   "outputs": [
    {
     "name": "stdout",
     "output_type": "stream",
     "text": [
      "yes\n"
     ]
    }
   ],
   "source": [
    "a, b, c, d = map(float, input().split())\n",
    "\n",
    "if a == 0 and b == 0 and c == 0 and d == 0:\n",
    "    print(\"yes\")\n",
    "elif a == 0 or b == 0 or c == 0 or d == 0:\n",
    "    print(\"no\")\n",
    "else:\n",
    "    if b/a == c/b and d/c == c/b:\n",
    "        print(\"yes\")\n",
    "    else:\n",
    "        print(\"no\")"
   ]
  }
 ],
 "metadata": {
  "kernelspec": {
   "display_name": "Python 3",
   "language": "python",
   "name": "python3"
  },
  "language_info": {
   "codemirror_mode": {
    "name": "ipython",
    "version": 3
   },
   "file_extension": ".py",
   "mimetype": "text/x-python",
   "name": "python",
   "nbconvert_exporter": "python",
   "pygments_lexer": "ipython3",
   "version": "3.12.2"
  }
 },
 "nbformat": 4,
 "nbformat_minor": 5
}
