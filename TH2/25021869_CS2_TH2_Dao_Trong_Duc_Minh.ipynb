{
  "nbformat": 4,
  "nbformat_minor": 0,
  "metadata": {
    "colab": {
      "provenance": []
    },
    "kernelspec": {
      "name": "python3",
      "display_name": "Python 3"
    },
    "language_info": {
      "name": "python"
    }
  },
  "cells": [
    {
      "cell_type": "markdown",
      "source": [
        "W2A1"
      ],
      "metadata": {
        "id": "gceeSlGFQURH"
      }
    },
    {
      "cell_type": "code",
      "execution_count": null,
      "metadata": {
        "colab": {
          "base_uri": "https://localhost:8080/"
        },
        "id": "Zri91EfhQTba",
        "outputId": "18e12df6-2116-4788-c8bc-637341e779e6"
      },
      "outputs": [
        {
          "output_type": "stream",
          "name": "stdout",
          "text": [
            "Hello World!\n"
          ]
        }
      ],
      "source": [
        "print(\"Hello World!\")"
      ]
    },
    {
      "cell_type": "markdown",
      "source": [
        "W2A2"
      ],
      "metadata": {
        "id": "gWRdKWXuQkiv"
      }
    },
    {
      "cell_type": "code",
      "source": [
        "name = input(\"Enter your name: \")\n",
        "print(\"Hello \" + name + \"!\")"
      ],
      "metadata": {
        "colab": {
          "base_uri": "https://localhost:8080/"
        },
        "id": "8R865Wr-Qmmq",
        "outputId": "8c6161ab-ab90-4b92-da3e-9b114a8e3f7e"
      },
      "execution_count": null,
      "outputs": [
        {
          "output_type": "stream",
          "name": "stdout",
          "text": [
            "Enter your name: sth\n",
            "Hello sth!\n"
          ]
        }
      ]
    },
    {
      "cell_type": "markdown",
      "source": [
        "W2A3"
      ],
      "metadata": {
        "id": "zzOFMXAOQvVN"
      }
    },
    {
      "cell_type": "code",
      "source": [
        "a, b = map(int, input().split())\n",
        "print(a + b)\n",
        "print(a - b)\n",
        "print(a * b)\n",
        "print(a // b)\n",
        "print(a % b)\n",
        "print(a / b)"
      ],
      "metadata": {
        "colab": {
          "base_uri": "https://localhost:8080/"
        },
        "id": "MBbxypHBQwmJ",
        "outputId": "b5113aaa-2cbf-4115-d941-800c5a20c4d9"
      },
      "execution_count": null,
      "outputs": [
        {
          "output_type": "stream",
          "name": "stdout",
          "text": [
            "3 4\n",
            "7\n",
            "-1\n",
            "12\n",
            "0\n",
            "3\n",
            "0.75\n"
          ]
        }
      ]
    },
    {
      "cell_type": "markdown",
      "source": [
        "W2A4"
      ],
      "metadata": {
        "id": "S8EsWIgmRt86"
      }
    },
    {
      "cell_type": "code",
      "source": [
        "a1, b1, c1, a2, b2, a3 = map(int, input().split())\n",
        "avg = (a1 + b1 + c1 + (a2 + b2) * 2 + a3 * 3)/10\n",
        "print(f'{avg:.1f}')"
      ],
      "metadata": {
        "colab": {
          "base_uri": "https://localhost:8080/"
        },
        "id": "qGuZOzRkRvwG",
        "outputId": "455afa4f-93e4-4803-a612-ec0050995adb"
      },
      "execution_count": null,
      "outputs": [
        {
          "output_type": "stream",
          "name": "stdout",
          "text": [
            "9 8 2 4 6 10\n",
            "6.9\n"
          ]
        }
      ]
    },
    {
      "cell_type": "markdown",
      "source": [
        "W2A5"
      ],
      "metadata": {
        "id": "BbKSVLOGSRRP"
      }
    },
    {
      "cell_type": "code",
      "source": [
        "a, b = map(int, input().split())\n",
        "result = a**b\n",
        "print(result)"
      ],
      "metadata": {
        "colab": {
          "base_uri": "https://localhost:8080/"
        },
        "id": "Epo_AL1uSTq9",
        "outputId": "8cc3a03c-4be4-4a67-d699-f974dcae9f95"
      },
      "execution_count": null,
      "outputs": [
        {
          "output_type": "stream",
          "name": "stdout",
          "text": [
            "2 3\n",
            "8\n"
          ]
        }
      ]
    },
    {
      "cell_type": "markdown",
      "source": [
        "W2A6"
      ],
      "metadata": {
        "id": "8MHVQSLYSiGx"
      }
    },
    {
      "cell_type": "code",
      "source": [
        "char = input()\n",
        "print(ord(char))\n",
        "print(chr(ord(char) - 32))"
      ],
      "metadata": {
        "colab": {
          "base_uri": "https://localhost:8080/"
        },
        "id": "R1vtd8l9Sjb2",
        "outputId": "7ce76e60-0eab-4325-88b4-0a7aaef9ace3"
      },
      "execution_count": null,
      "outputs": [
        {
          "output_type": "stream",
          "name": "stdout",
          "text": [
            "t\n",
            "116\n",
            "T\n"
          ]
        }
      ]
    },
    {
      "cell_type": "markdown",
      "source": [
        "W2A7"
      ],
      "metadata": {
        "id": "rBciGvr8UEeF"
      }
    },
    {
      "cell_type": "code",
      "source": [
        "print(\"A = \",  ((13 ** 2) * 3) + 5)\n",
        "print(\"B = \", 13**2*3 + 5)"
      ],
      "metadata": {
        "colab": {
          "base_uri": "https://localhost:8080/"
        },
        "id": "YTkpNrXhUFzb",
        "outputId": "0c3c906b-d491-4eee-9f14-91ec7fe38d23"
      },
      "execution_count": null,
      "outputs": [
        {
          "output_type": "stream",
          "name": "stdout",
          "text": [
            "A =  512\n",
            "B =  512\n"
          ]
        }
      ]
    },
    {
      "cell_type": "markdown",
      "source": [
        "W2A8"
      ],
      "metadata": {
        "id": "wng3rmLWUUTi"
      }
    },
    {
      "cell_type": "code",
      "source": [
        "temperature = float(input())\n",
        "print(f'{(temperature * (9/5) + 32):.2f}')\n"
      ],
      "metadata": {
        "colab": {
          "base_uri": "https://localhost:8080/"
        },
        "id": "kt0VBcqRUVwt",
        "outputId": "dcf67e6c-6930-412d-9b1c-ebfb6346db86"
      },
      "execution_count": null,
      "outputs": [
        {
          "output_type": "stream",
          "name": "stdout",
          "text": [
            "9\n",
            "48.20\n"
          ]
        }
      ]
    },
    {
      "cell_type": "markdown",
      "source": [
        "W2A9"
      ],
      "metadata": {
        "id": "5XO7ZbP8U8Qy"
      }
    },
    {
      "cell_type": "code",
      "source": [
        "price = float(input())\n",
        "print(f'{price * (1 + 0.3 + 0.1) + 10: .2f}')"
      ],
      "metadata": {
        "id": "7XzMRmFfU-td",
        "colab": {
          "base_uri": "https://localhost:8080/"
        },
        "outputId": "f9986533-f1e3-4adb-c974-62f9737c3acb"
      },
      "execution_count": null,
      "outputs": [
        {
          "output_type": "stream",
          "name": "stdout",
          "text": [
            "10\n",
            " 24.00\n"
          ]
        }
      ]
    },
    {
      "cell_type": "markdown",
      "source": [
        "W2A10"
      ],
      "metadata": {
        "id": "VkH22fQMVZ2i"
      }
    },
    {
      "cell_type": "code",
      "source": [
        "names = []\n",
        "names = input().split()\n",
        "for i in names:\n",
        "  print(i)"
      ],
      "metadata": {
        "colab": {
          "base_uri": "https://localhost:8080/"
        },
        "id": "58IvryeFEn_x",
        "outputId": "22aaaaad-6186-41c0-d25a-d19e80273972"
      },
      "execution_count": null,
      "outputs": [
        {
          "output_type": "stream",
          "name": "stdout",
          "text": [
            "Bob Alice Helen\n",
            "Bob\n",
            "Alice\n",
            "Helen\n"
          ]
        }
      ]
    },
    {
      "cell_type": "markdown",
      "source": [
        "W2A11"
      ],
      "metadata": {
        "id": "KFCfjW8JFaMu"
      }
    },
    {
      "cell_type": "code",
      "source": [
        "hour, min = map(int, input().split())\n",
        "print(f'{hour * 60 * 60 + min * 60}')"
      ],
      "metadata": {
        "colab": {
          "base_uri": "https://localhost:8080/"
        },
        "id": "9aQ-s5g4Fbhu",
        "outputId": "65c6adf6-30b2-413d-ef25-1707d5bc86e3"
      },
      "execution_count": null,
      "outputs": [
        {
          "output_type": "stream",
          "name": "stdout",
          "text": [
            "1 0\n",
            "3600\n"
          ]
        }
      ]
    },
    {
      "cell_type": "markdown",
      "source": [
        "W2A12"
      ],
      "metadata": {
        "id": "apFkOfeTF5sL"
      }
    },
    {
      "cell_type": "code",
      "source": [
        "n = int(input())\n",
        "print(f'{n ** 2 * 6}')"
      ],
      "metadata": {
        "colab": {
          "base_uri": "https://localhost:8080/"
        },
        "id": "PdUAcLcEF7Jn",
        "outputId": "8bdb1258-89a1-4469-fe26-5933e2bb8b14"
      },
      "execution_count": null,
      "outputs": [
        {
          "output_type": "stream",
          "name": "stdout",
          "text": [
            "3\n",
            "54\n"
          ]
        }
      ]
    },
    {
      "cell_type": "markdown",
      "source": [
        "W2A13"
      ],
      "metadata": {
        "id": "vljaiKjEGN0z"
      }
    },
    {
      "cell_type": "code",
      "source": [
        "a, b = map(int, input().split())\n",
        "print(f'{(a * b) % 10}')"
      ],
      "metadata": {
        "colab": {
          "base_uri": "https://localhost:8080/"
        },
        "id": "UEUfJ59jGO-w",
        "outputId": "55e9ce4f-d83a-4810-84a8-d6a6f411730f"
      },
      "execution_count": null,
      "outputs": [
        {
          "output_type": "stream",
          "name": "stdout",
          "text": [
            "3 4\n",
            "2\n"
          ]
        }
      ]
    },
    {
      "cell_type": "markdown",
      "source": [
        "W2A14"
      ],
      "metadata": {
        "id": "Wbinm5edGipW"
      }
    },
    {
      "cell_type": "code",
      "source": [
        "a = 12\n",
        "b = 56\n",
        "a, b = b, a\n",
        "print(a, b)"
      ],
      "metadata": {
        "colab": {
          "base_uri": "https://localhost:8080/"
        },
        "id": "JeJD8siaGjyt",
        "outputId": "2e92011b-464a-463c-f08b-614fae837225"
      },
      "execution_count": null,
      "outputs": [
        {
          "output_type": "stream",
          "name": "stdout",
          "text": [
            "56 12\n"
          ]
        }
      ]
    },
    {
      "cell_type": "markdown",
      "source": [
        "W2A16"
      ],
      "metadata": {
        "id": "iuyP2Y4TH0UM"
      }
    },
    {
      "cell_type": "code",
      "source": [
        "print(\"Spring\\nSummer\\nAutumn\\nWinter\")"
      ],
      "metadata": {
        "colab": {
          "base_uri": "https://localhost:8080/"
        },
        "id": "Y0QaGMcfH1qG",
        "outputId": "8721d19d-f718-411c-a174-473f01281ed8"
      },
      "execution_count": null,
      "outputs": [
        {
          "output_type": "stream",
          "name": "stdout",
          "text": [
            "Spring\n",
            "Summer\n",
            "Autumn\n",
            "Winter\n"
          ]
        }
      ]
    },
    {
      "cell_type": "markdown",
      "source": [
        "W2A17"
      ],
      "metadata": {
        "id": "hiUpxcIsH-xe"
      }
    },
    {
      "cell_type": "code",
      "source": [
        "for i in range(3):\n",
        "  print(\"*\", end = \"\")\n",
        "  for j in range(i):\n",
        "    print(\"**\", end = \"\")\n",
        "  print(\"\\n\", end = \"\")"
      ],
      "metadata": {
        "colab": {
          "base_uri": "https://localhost:8080/"
        },
        "id": "Vi9TNbA-H_5R",
        "outputId": "8f93519f-9c01-4141-cc11-ed8e1091799c"
      },
      "execution_count": null,
      "outputs": [
        {
          "output_type": "stream",
          "name": "stdout",
          "text": [
            "*\n",
            "***\n",
            "*****\n"
          ]
        }
      ]
    },
    {
      "cell_type": "markdown",
      "source": [
        "W2A18"
      ],
      "metadata": {
        "id": "mP942bblI1Zc"
      }
    },
    {
      "cell_type": "code",
      "source": [
        "print(\"### # #   ### ### \")\n",
        "print(\" #  #  #   #   #  \")\n",
        "print(\" #  #   #  #   # \")\n",
        "print(\" #  #  #   #   #\")\n",
        "print(\" #  # #    #   #  \")"
      ],
      "metadata": {
        "colab": {
          "base_uri": "https://localhost:8080/"
        },
        "id": "4zcMEl5BI2cR",
        "outputId": "ef51f43d-09b1-49e7-e008-463bdae67e50"
      },
      "execution_count": null,
      "outputs": [
        {
          "output_type": "stream",
          "name": "stdout",
          "text": [
            "### # #   ### ### \n",
            " #  #  #   #   #  \n",
            " #  #   #  #   # \n",
            " #  #  #   #   #\n",
            " #  # #    #   #  \n"
          ]
        }
      ]
    },
    {
      "cell_type": "markdown",
      "source": [
        "W2A19"
      ],
      "metadata": {
        "id": "NM5cInd0JYQN"
      }
    },
    {
      "cell_type": "code",
      "source": [
        "print(\"Monday\\nTuesday\\nWednesday\\nThursday\\nFriday\\nSaturday\\nSunday \")"
      ],
      "metadata": {
        "colab": {
          "base_uri": "https://localhost:8080/"
        },
        "id": "rKlm59knJZfQ",
        "outputId": "f42b4ad3-bc7d-48d7-841a-53278366ff6d"
      },
      "execution_count": null,
      "outputs": [
        {
          "output_type": "stream",
          "name": "stdout",
          "text": [
            "Monday\n",
            "Tuesday\n",
            "Wednesday\n",
            "Thursday\n",
            "Friday\n",
            "Saturday\n",
            "Sunday \n"
          ]
        }
      ]
    },
    {
      "cell_type": "markdown",
      "source": [
        "W2A20"
      ],
      "metadata": {
        "id": "m9g_YtUFJmD7"
      }
    },
    {
      "cell_type": "code",
      "source": [
        "print(\"January\")\n",
        "print(\"February\")\n",
        "print(\"March\")\n",
        "print(\"April\")\n",
        "print(\"May\")\n",
        "print(\"June\")\n",
        "print(\"July\")\n",
        "print(\"August\")\n",
        "print(\"September\")\n",
        "print(\"October\")\n",
        "print(\"November\")\n",
        "print(\"December\")"
      ],
      "metadata": {
        "colab": {
          "base_uri": "https://localhost:8080/"
        },
        "id": "wqZpy2CsJn3q",
        "outputId": "caed5245-a720-4f82-a965-a0c2e3e1605c"
      },
      "execution_count": null,
      "outputs": [
        {
          "output_type": "stream",
          "name": "stdout",
          "text": [
            "January\n",
            "February\n",
            "March\n",
            "April\n",
            "May\n",
            "June\n",
            "July\n",
            "August\n",
            "September\n",
            "October\n",
            "November\n",
            "December\n"
          ]
        }
      ]
    },
    {
      "cell_type": "markdown",
      "source": [
        "W2A21"
      ],
      "metadata": {
        "id": "AHngjOjeKN8W"
      }
    },
    {
      "cell_type": "code",
      "source": [
        "for i in range(10):\n",
        "  print(\"Hello, world\")"
      ],
      "metadata": {
        "colab": {
          "base_uri": "https://localhost:8080/"
        },
        "id": "FG0_7SI6KPbQ",
        "outputId": "9a628ac6-72d5-49bf-a8df-b722f4f5cee2"
      },
      "execution_count": null,
      "outputs": [
        {
          "output_type": "stream",
          "name": "stdout",
          "text": [
            "Hello, world\n",
            "Hello, world\n",
            "Hello, world\n",
            "Hello, world\n",
            "Hello, world\n",
            "Hello, world\n",
            "Hello, world\n",
            "Hello, world\n",
            "Hello, world\n",
            "Hello, world\n"
          ]
        }
      ]
    }
  ]
}